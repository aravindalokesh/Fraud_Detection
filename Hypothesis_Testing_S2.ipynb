{
  "nbformat": 4,
  "nbformat_minor": 0,
  "metadata": {
    "colab": {
      "name": "Hypothesis_Testing_S2.ipynb",
      "provenance": [],
      "include_colab_link": true
    },
    "kernelspec": {
      "name": "python3",
      "display_name": "Python 3"
    },
    "language_info": {
      "name": "python"
    }
  },
  "cells": [
    {
      "cell_type": "markdown",
      "metadata": {
        "id": "view-in-github",
        "colab_type": "text"
      },
      "source": [
        "<a href=\"https://colab.research.google.com/github/aravindalokesh/Fraud_Detection/blob/model1/Hypothesis_Testing_S2.ipynb\" target=\"_parent\"><img src=\"https://colab.research.google.com/assets/colab-badge.svg\" alt=\"Open In Colab\"/></a>"
      ]
    },
    {
      "cell_type": "code",
      "execution_count": null,
      "metadata": {
        "id": "YrrI0NLcfJuI"
      },
      "outputs": [],
      "source": [
        "import numpy as np\n",
        "from scipy.stats import ttest_1samp, ttest_ind, ttest_rel"
      ]
    },
    {
      "cell_type": "code",
      "source": [
        "S1 = np.random.randint(30, 50, 50)"
      ],
      "metadata": {
        "id": "UxKC3e8uvS_3"
      },
      "execution_count": null,
      "outputs": []
    },
    {
      "cell_type": "code",
      "source": [
        "S1"
      ],
      "metadata": {
        "colab": {
          "base_uri": "https://localhost:8080/"
        },
        "id": "TRGMZXxCvlON",
        "outputId": "c1f07709-c73a-4aea-dde9-859ba011be21"
      },
      "execution_count": null,
      "outputs": [
        {
          "output_type": "execute_result",
          "data": {
            "text/plain": [
              "array([34, 33, 32, 39, 49, 36, 36, 31, 36, 49, 40, 38, 32, 39, 32, 44, 38,\n",
              "       36, 42, 32, 42, 47, 32, 45, 30, 43, 48, 34, 47, 46, 35, 46, 36, 47,\n",
              "       47, 40, 36, 37, 38, 40, 33, 43, 47, 38, 38, 48, 35, 48, 41, 40])"
            ]
          },
          "metadata": {},
          "execution_count": 3
        }
      ]
    },
    {
      "cell_type": "code",
      "source": [
        "S2 = np.random.randint(36, 51, 50)"
      ],
      "metadata": {
        "id": "0obNxS1fvmR8"
      },
      "execution_count": null,
      "outputs": []
    },
    {
      "cell_type": "code",
      "source": [
        "S2"
      ],
      "metadata": {
        "colab": {
          "base_uri": "https://localhost:8080/"
        },
        "id": "70fQ-kkNvw1-",
        "outputId": "967a2686-2265-4561-e97c-4bd24f08ce1f"
      },
      "execution_count": null,
      "outputs": [
        {
          "output_type": "execute_result",
          "data": {
            "text/plain": [
              "array([39, 37, 48, 47, 49, 49, 42, 49, 48, 49, 47, 40, 40, 38, 50, 36, 40,\n",
              "       38, 43, 36, 45, 49, 39, 37, 45, 47, 43, 50, 40, 42, 49, 39, 43, 44,\n",
              "       41, 40, 49, 40, 47, 36, 49, 47, 43, 49, 43, 43, 37, 50, 44, 42])"
            ]
          },
          "metadata": {},
          "execution_count": 7
        }
      ]
    },
    {
      "cell_type": "code",
      "source": [
        "S1.mean()"
      ],
      "metadata": {
        "colab": {
          "base_uri": "https://localhost:8080/"
        },
        "id": "c0BoSjPDvxu5",
        "outputId": "a55fb875-bc44-467b-d3bc-b9042066a1f2"
      },
      "execution_count": null,
      "outputs": [
        {
          "output_type": "execute_result",
          "data": {
            "text/plain": [
              "39.5"
            ]
          },
          "metadata": {},
          "execution_count": 8
        }
      ]
    },
    {
      "cell_type": "code",
      "source": [
        "S2.mean()"
      ],
      "metadata": {
        "colab": {
          "base_uri": "https://localhost:8080/"
        },
        "id": "5HksRGa-v4mh",
        "outputId": "87638f65-285c-41e1-a041-d697aa05af87"
      },
      "execution_count": null,
      "outputs": [
        {
          "output_type": "execute_result",
          "data": {
            "text/plain": [
              "43.54"
            ]
          },
          "metadata": {},
          "execution_count": 9
        }
      ]
    },
    {
      "cell_type": "code",
      "source": [
        "#H0: mu = 45\n",
        "#H1: mu != 45 Kolkata"
      ],
      "metadata": {
        "id": "BBjyfLUOv6dX"
      },
      "execution_count": null,
      "outputs": []
    },
    {
      "cell_type": "code",
      "source": [
        "ttest_1samp(S1, 45)"
      ],
      "metadata": {
        "colab": {
          "base_uri": "https://localhost:8080/"
        },
        "id": "UhmeUlTmwRjB",
        "outputId": "0e45b7b9-706a-4b38-f9b2-3b6b317bb6f9"
      },
      "execution_count": null,
      "outputs": [
        {
          "output_type": "execute_result",
          "data": {
            "text/plain": [
              "Ttest_1sampResult(statistic=-6.860794310498961, pvalue=1.090000221617754e-08)"
            ]
          },
          "metadata": {},
          "execution_count": 11
        }
      ]
    },
    {
      "cell_type": "code",
      "source": [
        "ttest_1samp(S2, 45)"
      ],
      "metadata": {
        "colab": {
          "base_uri": "https://localhost:8080/"
        },
        "id": "9Ahojd61waw4",
        "outputId": "9777abde-9981-4225-b231-fa7b25bd70f7"
      },
      "execution_count": null,
      "outputs": [
        {
          "output_type": "execute_result",
          "data": {
            "text/plain": [
              "Ttest_1sampResult(statistic=-2.273447507118946, pvalue=0.027418264411815472)"
            ]
          },
          "metadata": {},
          "execution_count": 12
        }
      ]
    },
    {
      "cell_type": "code",
      "source": [
        "#H0: MU_KOL = MU_BLORE | MU_KOL <= MU_BLORE\n",
        "#H1: MU_KOL > MU_BLORE"
      ],
      "metadata": {
        "id": "dnFFTimSxf06"
      },
      "execution_count": null,
      "outputs": []
    },
    {
      "cell_type": "code",
      "source": [
        "ttest_ind(S1,S2, alternative = 'greater')"
      ],
      "metadata": {
        "colab": {
          "base_uri": "https://localhost:8080/"
        },
        "id": "_4TS6m-Ywp0X",
        "outputId": "4690151a-801b-4f17-f001-ad48398f987d"
      },
      "execution_count": null,
      "outputs": [
        {
          "output_type": "execute_result",
          "data": {
            "text/plain": [
              "Ttest_indResult(statistic=-3.9331531184020077, pvalue=0.9999217145385199)"
            ]
          },
          "metadata": {},
          "execution_count": 13
        }
      ]
    },
    {
      "cell_type": "code",
      "source": [
        "#H0 MU_KOL_BEFORE = MU_KOL_AFTER | H0 MU_KOL_BEFORE >= MU_KOL_AFTER | \n",
        "\n",
        "#H1 MU_KOL_BEFORE < MU_KOL_AFTER"
      ],
      "metadata": {
        "id": "euUIuZRBx6_M"
      },
      "execution_count": null,
      "outputs": []
    },
    {
      "cell_type": "code",
      "source": [
        "ttest_rel(S1,S2, alternative = 'less')"
      ],
      "metadata": {
        "colab": {
          "base_uri": "https://localhost:8080/"
        },
        "id": "cYtCSMUUydhH",
        "outputId": "e4ec99fa-daba-4652-86f5-d9d06528e2fc"
      },
      "execution_count": null,
      "outputs": [
        {
          "output_type": "execute_result",
          "data": {
            "text/plain": [
              "Ttest_relResult(statistic=-3.955403369152316, pvalue=0.0001229637164720234)"
            ]
          },
          "metadata": {},
          "execution_count": 15
        }
      ]
    },
    {
      "cell_type": "code",
      "source": [
        "ttest_rel(S2, S1, alternative = 'greater')"
      ],
      "metadata": {
        "colab": {
          "base_uri": "https://localhost:8080/"
        },
        "id": "AUahVp1kyklr",
        "outputId": "47cb9d71-49b2-487b-f265-793870d16c91"
      },
      "execution_count": null,
      "outputs": [
        {
          "output_type": "execute_result",
          "data": {
            "text/plain": [
              "Ttest_relResult(statistic=3.955403369152316, pvalue=0.0001229637164720234)"
            ]
          },
          "metadata": {},
          "execution_count": 16
        }
      ]
    }
  ]
}